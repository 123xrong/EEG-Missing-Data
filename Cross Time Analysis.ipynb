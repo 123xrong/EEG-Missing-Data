{
 "cells": [
  {
   "cell_type": "code",
   "execution_count": 97,
   "id": "f73a9232",
   "metadata": {},
   "outputs": [],
   "source": [
    "from scipy.io import loadmat\n",
    "import numpy as np\n",
    "import pandas as pd\n",
    "from matplotlib import pyplot as plt\n",
    "from cvxpy import *\n",
    "import random\n",
    "import svt_solver\n",
    "from sklearn.utils.extmath import randomized_svd, svd_flip\n",
    "from scipy.sparse.linalg import svds\n",
    "import pmf_solver\n",
    "from sklearn.model_selection import train_test_split\n",
    "from sklearn.metrics import mean_squared_error\n",
    "import seaborn as sns\n",
    "import scipy.io\n",
    "import NNM\n",
    "import Grasscare"
   ]
  },
  {
   "cell_type": "code",
   "execution_count": 2,
   "id": "0beb46fd",
   "metadata": {},
   "outputs": [],
   "source": [
    "mat_data = scipy.io.loadmat('tensor_data.mat')\n",
    "data = mat_data['inf_adjMat']"
   ]
  },
  {
   "cell_type": "code",
   "execution_count": 4,
   "id": "28d6a081",
   "metadata": {},
   "outputs": [
    {
     "data": {
      "image/png": "[encoded data removed]",
      "text/plain": [
       "<Figure size 640x480 with 1 Axes>"
      ]
     },
     "metadata": {},
     "output_type": "display_data"
    }
   ],
   "source": [
    "times = []\n",
    "for i in range(data.shape[0]):\n",
    "    time_num = data[i][0].shape[2]\n",
    "    times.append(time_num)\n",
    "plt.hist(times, bins = np.arange(0,81,2), edgecolor='black')\n",
    "plt.show()"
   ]
  },
  {
   "cell_type": "code",
   "execution_count": 5,
   "id": "1d23bf61",
   "metadata": {},
   "outputs": [
    {
     "name": "stdout",
     "output_type": "stream",
     "text": [
      "Mean: 12.571428571428571\n",
      "Median: 10.0\n",
      "Standard Deviation: 10.081302151072773\n",
      "Minimum Value: 6\n",
      "Maximum Value: 80\n"
     ]
    }
   ],
   "source": [
    "mean = np.mean(times)\n",
    "median = np.median(times)\n",
    "std_dev = np.std(times)\n",
    "min_val = np.min(times)\n",
    "max_val = np.max(times)\n",
    "\n",
    "print(\"Mean:\", mean)\n",
    "print(\"Median:\", median)\n",
    "print(\"Standard Deviation:\", std_dev)\n",
    "print(\"Minimum Value:\", min_val)\n",
    "print(\"Maximum Value:\", max_val)"
   ]
  },
  {
   "cell_type": "code",
   "execution_count": 29,
   "id": "4bd5d3bf",
   "metadata": {},
   "outputs": [],
   "source": [
    "dat = []\n",
    "for i in range(data.shape[0]):\n",
    "    curr = data[i][0]\n",
    "    dat.append(curr)"
   ]
  },
  {
   "cell_type": "markdown",
   "id": "392068fe",
   "metadata": {},
   "source": [
    "## Functions needed for processing"
   ]
  },
  {
   "cell_type": "code",
   "execution_count": 6,
   "id": "109a2f13",
   "metadata": {},
   "outputs": [],
   "source": [
    "def plot_heatmap(matrix, subject_index, time_point):\n",
    "    plt.figure(figsize=(8, 6))\n",
    "    sns.heatmap(matrix, cmap='YlGnBu', square=True)\n",
    "    plt.title(f\"Missing Pattern Heatmap for Subject {subject_index} at Time Point {time_point}\")\n",
    "    plt.xlabel(\"ROIs\")\n",
    "    plt.ylabel(\"ROIs\")\n",
    "    plt.show()"
   ]
  },
  {
   "cell_type": "code",
   "execution_count": 46,
   "id": "aa950434",
   "metadata": {},
   "outputs": [],
   "source": [
    "def get_missing_rate(omega):\n",
    "    count = 0\n",
    "    flatten = omega.flatten()\n",
    "    for entry in flatten:\n",
    "        if entry == 0:\n",
    "            count += 1\n",
    "    return count / len(flatten)"
   ]
  },
  {
   "cell_type": "code",
   "execution_count": 62,
   "id": "4e6c921d",
   "metadata": {},
   "outputs": [],
   "source": [
    "def get_omega(X):\n",
    "    m = X.shape[0]\n",
    "    n = X.shape[1]\n",
    "    omega = np.zeros([m,n])\n",
    "    omega_mask = np.zeros([m,n])\n",
    "    for i in range(m):\n",
    "        for j in range(n):\n",
    "            if np.isnan(X[i][j]):\n",
    "                omega[i][j] = 0\n",
    "                omega_mask[i][j] = 0\n",
    "            else:\n",
    "                omega[i][j] = X[i][j]\n",
    "                omega_mask[i][j] = 1\n",
    "    return omega, omega_mask\n",
    "\n",
    "def get_omega_list(matrix_list, time):\n",
    "    omega_list = []\n",
    "    omega_mask_list = []\n",
    "    for i in range(time):\n",
    "        omega, omega_mask = get_omega(matrix_list[:,:,i])\n",
    "        omega_list.append(omega)\n",
    "        omega_mask_list.append(omega_mask)\n",
    "    return omega_list, omega_mask_list"
   ]
  },
  {
   "cell_type": "code",
   "execution_count": 66,
   "id": "d5b0cb9a",
   "metadata": {},
   "outputs": [],
   "source": [
    "def get_rank(mat_list):\n",
    "    rank_list = []\n",
    "    for i in range(len(mat_list)):\n",
    "        m = mat_list[i]\n",
    "        rank = np.linalg.matrix_rank(m)\n",
    "        rank_list.append(rank)\n",
    "    return rank_list"
   ]
  },
  {
   "cell_type": "code",
   "execution_count": 25,
   "id": "e3d9ae48",
   "metadata": {},
   "outputs": [],
   "source": [
    "def get_error(omega_list, omega_mask_list, omega_hat):\n",
    "    error_list = []\n",
    "    \n",
    "    for i in range(len(omega_list)):\n",
    "\n",
    "        observed_index = np.nonzero(omega_mask_list[i])\n",
    "        observed_entries = omega_list[i][observed_index]\n",
    "        completed_entries = omega_hat[i][observed_index]\n",
    "\n",
    "        error = np.linalg.norm(observed_entries - completed_entries) / np.linalg.norm(observed_entries)\n",
    "        error_list.append(error)\n",
    "        \n",
    "    return error_list"
   ]
  },
  {
   "cell_type": "code",
   "execution_count": 94,
   "id": "45b8d4c0",
   "metadata": {},
   "outputs": [],
   "source": [
    "def get_basis(m, rank):\n",
    "    U,S,V = np.linalg.svd(m)\n",
    "    b = U[:, 0:rank]\n",
    "    \n",
    "    return b"
   ]
  },
  {
   "cell_type": "markdown",
   "id": "a1e893d8",
   "metadata": {},
   "source": [
    "### Subject 1"
   ]
  },
  {
   "cell_type": "code",
   "execution_count": 31,
   "id": "ea569b75",
   "metadata": {},
   "outputs": [],
   "source": [
    "omega_1, omega_mask_1 = get_omega_list(dat[0], times[0])"
   ]
  },
  {
   "cell_type": "code",
   "execution_count": 35,
   "id": "c8e39f74",
   "metadata": {},
   "outputs": [],
   "source": [
    "sub1_NNM_hat = []\n",
    "for i in range(len(omega_sub1)):\n",
    "    sub_hat = NNM.nuclear_norm_solve(omega_1[i], omega_mask_1[i])\n",
    "    sub1_NNM_hat.append(sub_hat) "
   ]
  },
  {
   "cell_type": "code",
   "execution_count": 36,
   "id": "2aaa0491",
   "metadata": {},
   "outputs": [
    {
     "data": {
      "text/plain": [
       "[<matplotlib.lines.Line2D at 0x12f411c10>]"
      ]
     },
     "execution_count": 36,
     "metadata": {},
     "output_type": "execute_result"
    },
    {
     "data": {
      "image/png": "[encoded data removed]",
      "text/plain": [
       "<Figure size 640x480 with 1 Axes>"
      ]
     },
     "metadata": {},
     "output_type": "display_data"
    }
   ],
   "source": [
    "sub1_error = get_error(omega_1, omega_mask_1, sub1_NNM_hat)\n",
    "plt.plot(range(len(omega_1)), sub1_error)"
   ]
  },
  {
   "cell_type": "code",
   "execution_count": 51,
   "id": "4b682244",
   "metadata": {},
   "outputs": [],
   "source": [
    "rank_sub1 = []\n",
    "for i in range(len(sub1_NNM_hat)):\n",
    "    m = sub1_NNM_hat[i]\n",
    "    rank = np.linalg.matrix_rank(m)\n",
    "    rank_sub1.append(rank)"
   ]
  },
  {
   "cell_type": "code",
   "execution_count": 52,
   "id": "053d9774",
   "metadata": {},
   "outputs": [
    {
     "data": {
      "text/plain": [
       "[29, 29, 29, 29, 28, 29, 26, 29, 29, 24]"
      ]
     },
     "execution_count": 52,
     "metadata": {},
     "output_type": "execute_result"
    }
   ],
   "source": [
    "rank_sub1"
   ]
  },
  {
   "cell_type": "markdown",
   "id": "7b7da603",
   "metadata": {},
   "source": [
    "### Subject 2"
   ]
  },
  {
   "cell_type": "code",
   "execution_count": 38,
   "id": "ab815af2",
   "metadata": {},
   "outputs": [],
   "source": [
    "omega_2, omega_mask_2 = get_omega_list(dat[1], times[1])"
   ]
  },
  {
   "cell_type": "code",
   "execution_count": 42,
   "id": "8274ca6d",
   "metadata": {},
   "outputs": [],
   "source": [
    "sub2_NNM_hat = []\n",
    "for i in range(len(omega_2)):\n",
    "    sub_hat = NNM.nuclear_norm_solve(omega_2[i], omega_mask_2[i])\n",
    "    sub2_NNM_hat.append(sub_hat) "
   ]
  },
  {
   "cell_type": "code",
   "execution_count": 43,
   "id": "16894586",
   "metadata": {},
   "outputs": [
    {
     "data": {
      "text/plain": [
       "[<matplotlib.lines.Line2D at 0x12f771a50>]"
      ]
     },
     "execution_count": 43,
     "metadata": {},
     "output_type": "execute_result"
    },
    {
     "data": {
      "image/png": "[encoded data removed]",
      "text/plain": [
       "<Figure size 640x480 with 1 Axes>"
      ]
     },
     "metadata": {},
     "output_type": "display_data"
    }
   ],
   "source": [
    "sub2_error = get_error(omega_2, omega_mask_2, sub2_NNM_hat)\n",
    "plt.plot(range(len(omega_2)), sub2_error)"
   ]
  },
  {
   "cell_type": "code",
   "execution_count": 68,
   "id": "a19ce132",
   "metadata": {},
   "outputs": [],
   "source": [
    "rank_2 = get_rank(sub2_NNM_hat)"
   ]
  },
  {
   "cell_type": "code",
   "execution_count": 69,
   "id": "3eeb16f3",
   "metadata": {},
   "outputs": [
    {
     "data": {
      "text/plain": [
       "[3, 9, 2, 3, 3, 3, 10, 6, 2, 2, 2]"
      ]
     },
     "execution_count": 69,
     "metadata": {},
     "output_type": "execute_result"
    }
   ],
   "source": [
    "rank_2"
   ]
  },
  {
   "cell_type": "markdown",
   "id": "f9684971",
   "metadata": {},
   "source": [
    "### Ranks of each subject"
   ]
  },
  {
   "cell_type": "code",
   "execution_count": 73,
   "id": "eb9153cb",
   "metadata": {},
   "outputs": [
    {
     "name": "stdout",
     "output_type": "stream",
     "text": [
      "Subject 1: [29, 29, 29, 29, 28, 29, 26, 29, 29, 24]\n",
      "Subject 2: [3, 9, 2, 3, 3, 3, 10, 6, 2, 2, 2]\n",
      "Subject 3: [14, 4, 4, 11, 4, 4, 5, 7, 6, 4]\n",
      "Subject 4: [30, 30, 31, 31, 31, 31, 30, 31, 29, 31]\n",
      "Subject 5: [37, 37, 37, 37, 37, 37, 37, 37, 37, 37]\n",
      "Subject 6: [38, 37, 38, 38, 37, 38, 37, 38, 38, 38]\n",
      "Subject 7: [29, 29, 29, 24, 28, 28, 29, 27, 27, 25]\n",
      "Subject 8: [25, 22, 22, 21, 23, 22, 18, 25, 9, 24]\n",
      "Subject 9: [29, 31, 31, 31, 31, 31, 31, 28, 31, 30, 31, 31, 31]\n",
      "Subject 10: [4, 14, 14, 5, 3, 15, 7, 5, 14, 3]\n",
      "Subject 11: [6, 5, 7, 11, 5, 6, 17, 11, 5, 6, 15, 7, 6]\n"
     ]
    }
   ],
   "source": [
    "for i in range(11):\n",
    "    omega_hat = []\n",
    "    omega, omega_mask = get_omega_list(dat[i], times[i])\n",
    "    for j in range(len(omega)):\n",
    "        sub_hat = NNM.nuclear_norm_solve(omega[j], omega_mask[j])\n",
    "        omega_hat.append(sub_hat)\n",
    "    error = get_error(omega, omega_mask, omega_hat)\n",
    "    rank = get_rank(omega_hat)\n",
    "\n",
    "    print(f\"Subject {i+1}: {rank}\")"
   ]
  },
  {
   "cell_type": "code",
   "execution_count": 83,
   "id": "d7da2684",
   "metadata": {},
   "outputs": [
    {
     "name": "stdout",
     "output_type": "stream",
     "text": [
      "Subject 12: [35, 34, 35, 35, 35, 35, 35, 35, 35, 35]\n",
      "Subject 13: [8, 7, 13, 19, 6, 21, 15, 18, 7, 17]\n",
      "Subject 14: [34, 33, 34, 33, 34, 34, 33, 33, 34, 34]\n",
      "Subject 15: [26, 25, 26, 27, 26, 28, 28, 26, 27, 28]\n",
      "Subject 16: [35, 34, 35, 35, 33, 35, 35, 35, 35, 35]\n",
      "Subject 17: [31, 31, 31, 31, 31, 31]\n",
      "Subject 18: [39, 39, 39, 38, 39, 38, 38, 38, 39, 39]\n",
      "Subject 19: [36, 36, 36, 36, 36, 36, 35, 36, 36, 36]\n",
      "Subject 20: [43, 43, 43, 43, 43, 43, 43, 43, 43, 43, 43]\n"
     ]
    }
   ],
   "source": [
    "for i in range(11,20):\n",
    "    omega_hat = []\n",
    "    omega, omega_mask = get_omega_list(dat[i], times[i])\n",
    "    for j in range(len(omega)):\n",
    "        sub_hat = NNM.nuclear_norm_solve(omega[j], omega_mask[j])\n",
    "        omega_hat.append(sub_hat)\n",
    "    error = get_error(omega, omega_mask, omega_hat)\n",
    "    rank = get_rank(omega_hat)\n",
    "\n",
    "    print(f\"Subject {i+1}: {rank}\")"
   ]
  },
  {
   "cell_type": "code",
   "execution_count": 84,
   "id": "4bd7e84a",
   "metadata": {},
   "outputs": [
    {
     "name": "stdout",
     "output_type": "stream",
     "text": [
      "Subject 21: [31, 32, 31, 31, 32, 32, 32, 32, 32, 32, 32, 31]\n",
      "Subject 22: [29, 30, 30, 30, 30, 29, 30, 30, 30, 27, 29, 30, 30, 29, 30, 29, 30]\n",
      "Subject 23: [37, 37, 37, 37, 37, 36, 37, 37, 37, 37]\n",
      "Subject 24: [34, 35, 35, 35, 35, 35, 35, 34, 35, 35]\n",
      "Subject 25: [7, 10, 23, 23, 22, 9, 21, 21, 22, 19, 20, 20, 9, 23, 20]\n",
      "Subject 26: [31, 32, 31, 32, 31, 32, 29, 32, 29, 32]\n",
      "Subject 27: [40, 41, 41, 41, 41, 41, 41, 41, 41, 41]\n",
      "Subject 28: [31, 31, 30, 31, 31, 30, 31, 30, 22, 31]\n",
      "Subject 29: [33, 33, 34, 34, 34, 34, 34, 34, 34, 34, 33]\n",
      "Subject 30: [38, 38, 38, 38, 38, 38, 38, 38, 38, 38]\n"
     ]
    }
   ],
   "source": [
    "for i in range(20,30):\n",
    "    omega_hat = []\n",
    "    omega, omega_mask = get_omega_list(dat[i], times[i])\n",
    "    for j in range(len(omega)):\n",
    "        sub_hat = NNM.nuclear_norm_solve(omega[j], omega_mask[j])\n",
    "        omega_hat.append(sub_hat)\n",
    "    error = get_error(omega, omega_mask, omega_hat)\n",
    "    rank = get_rank(omega_hat)\n",
    "\n",
    "    print(f\"Subject {i+1}: {rank}\")"
   ]
  },
  {
   "cell_type": "code",
   "execution_count": 85,
   "id": "c2bcb49d",
   "metadata": {},
   "outputs": [
    {
     "name": "stdout",
     "output_type": "stream",
     "text": [
      "Subject 31: [5, 4, 4, 3, 3, 3, 3, 3, 3, 3]\n",
      "Subject 32: [29, 27, 28, 29, 27, 27, 26, 29, 28, 28]\n",
      "Subject 33: [37, 37, 37, 37, 37, 37, 37, 37, 36, 37]\n",
      "Subject 34: [17, 15, 15, 6, 8, 5, 6, 3, 4, 16, 17, 13, 17, 15, 11]\n",
      "Subject 35: [23, 14, 9, 17, 20, 8, 22, 16, 22, 7, 24, 23, 24, 19, 21, 18, 15, 24, 20, 24, 19, 23, 24, 21, 16, 23, 19, 24, 24, 20, 19, 18, 24, 22, 15, 24, 22, 23, 18, 22, 23, 22, 16, 11, 24, 22, 23, 19, 6, 7, 23, 22, 7, 19, 16, 16, 9, 22, 23, 16, 12, 16, 22, 24, 9, 17, 21, 22, 23, 22, 20, 18, 24, 23, 21, 20, 24, 22, 18, 23]\n",
      "Subject 36: [33, 34, 34, 34, 34, 33, 33, 32, 34, 34, 33]\n",
      "Subject 37: [31, 32, 32, 31, 31, 32, 32, 30, 31, 32, 31, 31, 32, 32, 32, 32, 32, 32]\n",
      "Subject 38: [31, 31, 30, 31, 29, 31, 31, 31, 31, 18]\n",
      "Subject 39: [26, 28, 23, 25, 27, 24, 26, 26, 23, 24]\n",
      "Subject 40: [16, 9, 13, 17, 15, 6, 20, 20, 12, 17]\n"
     ]
    }
   ],
   "source": [
    "for i in range(30,40):\n",
    "    omega_hat = []\n",
    "    omega, omega_mask = get_omega_list(dat[i], times[i])\n",
    "    for j in range(len(omega)):\n",
    "        sub_hat = NNM.nuclear_norm_solve(omega[j], omega_mask[j])\n",
    "        omega_hat.append(sub_hat)\n",
    "    error = get_error(omega, omega_mask, omega_hat)\n",
    "    rank = get_rank(omega_hat)\n",
    "\n",
    "    print(f\"Subject {i+1}: {rank}\")"
   ]
  },
  {
   "cell_type": "code",
   "execution_count": 86,
   "id": "6dbdf8d2",
   "metadata": {},
   "outputs": [
    {
     "name": "stdout",
     "output_type": "stream",
     "text": [
      "Subject 41: [31, 33, 33, 33, 33, 33, 33, 32, 33, 33]\n",
      "Subject 42: [35, 35, 34, 35, 35, 35, 35, 35, 35, 35, 35]\n",
      "Subject 43: [22, 18, 22, 16, 21, 7, 23, 22, 14, 12, 19, 23, 21, 21, 22, 22, 8]\n",
      "Subject 44: [23, 23, 21, 11, 20, 10, 22, 22, 20, 22, 23, 22, 18, 22, 21, 5, 15, 22, 17, 22, 16, 23]\n",
      "Subject 45: [11, 8, 17, 13, 7, 11, 20, 20, 19, 13]\n",
      "Subject 46: [38, 38, 38, 38, 38, 38, 38, 38, 38, 38]\n",
      "Subject 47: [25, 10, 18, 20, 17, 23, 24, 19, 26, 26, 26]\n",
      "Subject 48: [17, 22, 14, 12, 25, 10, 21, 25, 21, 25, 25, 22]\n",
      "Subject 49: [22, 7, 16, 15, 21, 17, 21, 20, 12, 14]\n"
     ]
    }
   ],
   "source": [
    "for i in range(40,49):\n",
    "    omega_hat = []\n",
    "    omega, omega_mask = get_omega_list(dat[i], times[i])\n",
    "    for j in range(len(omega)):\n",
    "        sub_hat = NNM.nuclear_norm_solve(omega[j], omega_mask[j])\n",
    "        omega_hat.append(sub_hat)\n",
    "    error = get_error(omega, omega_mask, omega_hat)\n",
    "    rank = get_rank(omega_hat)\n",
    "\n",
    "    print(f\"Subject {i+1}: {rank}\")"
   ]
  },
  {
   "cell_type": "code",
   "execution_count": 95,
   "id": "c36c5d6b",
   "metadata": {},
   "outputs": [],
   "source": [
    "omega_hat_1 = []\n",
    "b1 = []\n",
    "omega, omega_mask = get_omega_list(dat[0], times[0])\n",
    "for j in range(len(omega)):\n",
    "    sub_hat = NNM.nuclear_norm_solve(omega[j], omega_mask[j])\n",
    "    omega_hat_1.append(sub_hat)\n",
    "    \n",
    "    b = get_basis(sub_hat, 3)\n",
    "    b1.append(b)"
   ]
  },
  {
   "cell_type": "code",
   "execution_count": 100,
   "id": "2d43af43",
   "metadata": {},
   "outputs": [],
   "source": [
    "b1 = np.array(b1)"
   ]
  },
  {
   "cell_type": "code",
   "execution_count": 101,
   "id": "5cc127cf",
   "metadata": {},
   "outputs": [
    {
     "name": "stdout",
     "output_type": "stream",
     "text": [
      "Intel MKL WARNING: Support of Intel(R) Streaming SIMD Extensions 4.2 (Intel(R) SSE4.2) enabled only processors has been deprecated. Intel oneAPI Math Kernel Library 2025.0 will require Intel(R) Advanced Vector Extensions (Intel(R) AVX) instructions.\n",
      "Intel MKL WARNING: Support of Intel(R) Streaming SIMD Extensions 4.2 (Intel(R) SSE4.2) enabled only processors has been deprecated. Intel oneAPI Math Kernel Library 2025.0 will require Intel(R) Advanced Vector Extensions (Intel(R) AVX) instructions.\n",
      "Intel MKL WARNING: Support of Intel(R) Streaming SIMD Extensions 4.2 (Intel(R) SSE4.2) enabled only processors has been deprecated. Intel oneAPI Math Kernel Library 2025.0 will require Intel(R) Advanced Vector Extensions (Intel(R) AVX) instructions.\n",
      "Intel MKL WARNING: Support of Intel(R) Streaming SIMD Extensions 4.2 (Intel(R) SSE4.2) enabled only processors has been deprecated. Intel oneAPI Math Kernel Library 2025.0 will require Intel(R) Advanced Vector Extensions (Intel(R) AVX) instructions.\n",
      "Intel MKL WARNING: Support of Intel(R) Streaming SIMD Extensions 4.2 (Intel(R) SSE4.2) enabled only processors has been deprecated. Intel oneAPI Math Kernel Library 2025.0 will require Intel(R) Advanced Vector Extensions (Intel(R) AVX) instructions.\n",
      "Intel MKL WARNING: Support of Intel(R) Streaming SIMD Extensions 4.2 (Intel(R) SSE4.2) enabled only processors has been deprecated. Intel oneAPI Math Kernel Library 2025.0 will require Intel(R) Advanced Vector Extensions (Intel(R) AVX) instructions.\n",
      "Intel MKL WARNING: Support of Intel(R) Streaming SIMD Extensions 4.2 (Intel(R) SSE4.2) enabled only processors has been deprecated. Intel oneAPI Math Kernel Library 2025.0 will require Intel(R) Advanced Vector Extensions (Intel(R) AVX) instructions.\n",
      "Intel MKL WARNING: Support of Intel(R) Streaming SIMD Extensions 4.2 (Intel(R) SSE4.2) enabled only processors has been deprecated. Intel oneAPI Math Kernel Library 2025.0 will require Intel(R) Advanced Vector Extensions (Intel(R) AVX) instructions.\n",
      "Intel MKL WARNING: Support of Intel(R) Streaming SIMD Extensions 4.2 (Intel(R) SSE4.2) enabled only processors has been deprecated. Intel oneAPI Math Kernel Library 2025.0 will require Intel(R) Advanced Vector Extensions (Intel(R) AVX) instructions.\n",
      "Intel MKL WARNING: Support of Intel(R) Streaming SIMD Extensions 4.2 (Intel(R) SSE4.2) enabled only processors has been deprecated. Intel oneAPI Math Kernel Library 2025.0 will require Intel(R) Advanced Vector Extensions (Intel(R) AVX) instructions.\n",
      "Intel MKL WARNING: Support of Intel(R) Streaming SIMD Extensions 4.2 (Intel(R) SSE4.2) enabled only processors has been deprecated. Intel oneAPI Math Kernel Library 2025.0 will require Intel(R) Advanced Vector Extensions (Intel(R) AVX) instructions.\n",
      "Intel MKL WARNING: Support of Intel(R) Streaming SIMD Extensions 4.2 (Intel(R) SSE4.2) enabled only processors has been deprecated. Intel oneAPI Math Kernel Library 2025.0 will require Intel(R) Advanced Vector Extensions (Intel(R) AVX) instructions.\n",
      "Intel MKL WARNING: Support of Intel(R) Streaming SIMD Extensions 4.2 (Intel(R) SSE4.2) enabled only processors has been deprecated. Intel oneAPI Math Kernel Library 2025.0 will require Intel(R) Advanced Vector Extensions (Intel(R) AVX) instructions.\n",
      "Intel MKL WARNING: Support of Intel(R) Streaming SIMD Extensions 4.2 (Intel(R) SSE4.2) enabled only processors has been deprecated. Intel oneAPI Math Kernel Library 2025.0 will require Intel(R) Advanced Vector Extensions (Intel(R) AVX) instructions.\n",
      "Intel MKL WARNING: Support of Intel(R) Streaming SIMD Extensions 4.2 (Intel(R) SSE4.2) enabled only processors has been deprecated. Intel oneAPI Math Kernel Library 2025.0 will require Intel(R) Advanced Vector Extensions (Intel(R) AVX) instructions.\n",
      "Intel MKL WARNING: Support of Intel(R) Streaming SIMD Extensions 4.2 (Intel(R) SSE4.2) enabled only processors has been deprecated. Intel oneAPI Math Kernel Library 2025.0 will require Intel(R) Advanced Vector Extensions (Intel(R) AVX) instructions.\n",
      "Intel MKL WARNING: Support of Intel(R) Streaming SIMD Extensions 4.2 (Intel(R) SSE4.2) enabled only processors has been deprecated. Intel oneAPI Math Kernel Library 2025.0 will require Intel(R) Advanced Vector Extensions (Intel(R) AVX) instructions.\n",
      "Intel MKL WARNING: Support of Intel(R) Streaming SIMD Extensions 4.2 (Intel(R) SSE4.2) enabled only processors has been deprecated. Intel oneAPI Math Kernel Library 2025.0 will require Intel(R) Advanced Vector Extensions (Intel(R) AVX) instructions.\n",
      "Intel MKL WARNING: Support of Intel(R) Streaming SIMD Extensions 4.2 (Intel(R) SSE4.2) enabled only processors has been deprecated. Intel oneAPI Math Kernel Library 2025.0 will require Intel(R) Advanced Vector Extensions (Intel(R) AVX) instructions.\n",
      "Intel MKL WARNING: Support of Intel(R) Streaming SIMD Extensions 4.2 (Intel(R) SSE4.2) enabled only processors has been deprecated. Intel oneAPI Math Kernel Library 2025.0 will require Intel(R) Advanced Vector Extensions (Intel(R) AVX) instructions.\n",
      "Intel MKL WARNING: Support of Intel(R) Streaming SIMD Extensions 4.2 (Intel(R) SSE4.2) enabled only processors has been deprecated. Intel oneAPI Math Kernel Library 2025.0 will require Intel(R) Advanced Vector Extensions (Intel(R) AVX) instructions.\n",
      "Intel MKL WARNING: Support of Intel(R) Streaming SIMD Extensions 4.2 (Intel(R) SSE4.2) enabled only processors has been deprecated. Intel oneAPI Math Kernel Library 2025.0 will require Intel(R) Advanced Vector Extensions (Intel(R) AVX) instructions.\n",
      "Intel MKL WARNING: Support of Intel(R) Streaming SIMD Extensions 4.2 (Intel(R) SSE4.2) enabled only processors has been deprecated. Intel oneAPI Math Kernel Library 2025.0 will require Intel(R) Advanced Vector Extensions (Intel(R) AVX) instructions.\n",
      "Intel MKL WARNING: Support of Intel(R) Streaming SIMD Extensions 4.2 (Intel(R) SSE4.2) enabled only processors has been deprecated. Intel oneAPI Math Kernel Library 2025.0 will require Intel(R) Advanced Vector Extensions (Intel(R) AVX) instructions.\n",
      "Intel MKL WARNING: Support of Intel(R) Streaming SIMD Extensions 4.2 (Intel(R) SSE4.2) enabled only processors has been deprecated. Intel oneAPI Math Kernel Library 2025.0 will require Intel(R) Advanced Vector Extensions (Intel(R) AVX) instructions.\n",
      "Intel MKL WARNING: Support of Intel(R) Streaming SIMD Extensions 4.2 (Intel(R) SSE4.2) enabled only processors has been deprecated. Intel oneAPI Math Kernel Library 2025.0 will require Intel(R) Advanced Vector Extensions (Intel(R) AVX) instructions.\n",
      "Intel MKL WARNING: Support of Intel(R) Streaming SIMD Extensions 4.2 (Intel(R) SSE4.2) enabled only processors has been deprecated. Intel oneAPI Math Kernel Library 2025.0 will require Intel(R) Advanced Vector Extensions (Intel(R) AVX) instructions.\n",
      "Intel MKL WARNING: Support of Intel(R) Streaming SIMD Extensions 4.2 (Intel(R) SSE4.2) enabled only processors has been deprecated. Intel oneAPI Math Kernel Library 2025.0 will require Intel(R) Advanced Vector Extensions (Intel(R) AVX) instructions.\n",
      "Intel MKL WARNING: Support of Intel(R) Streaming SIMD Extensions 4.2 (Intel(R) SSE4.2) enabled only processors has been deprecated. Intel oneAPI Math Kernel Library 2025.0 will require Intel(R) Advanced Vector Extensions (Intel(R) AVX) instructions.\n",
      "Intel MKL WARNING: Support of Intel(R) Streaming SIMD Extensions 4.2 (Intel(R) SSE4.2) enabled only processors has been deprecated. Intel oneAPI Math Kernel Library 2025.0 will require Intel(R) Advanced Vector Extensions (Intel(R) AVX) instructions.\n",
      "Intel MKL WARNING: Support of Intel(R) Streaming SIMD Extensions 4.2 (Intel(R) SSE4.2) enabled only processors has been deprecated. Intel oneAPI Math Kernel Library 2025.0 will require Intel(R) Advanced Vector Extensions (Intel(R) AVX) instructions.\n",
      "Intel MKL WARNING: Support of Intel(R) Streaming SIMD Extensions 4.2 (Intel(R) SSE4.2) enabled only processors has been deprecated. Intel oneAPI Math Kernel Library 2025.0 will require Intel(R) Advanced Vector Extensions (Intel(R) AVX) instructions.\n",
      "Intel MKL WARNING: Support of Intel(R) Streaming SIMD Extensions 4.2 (Intel(R) SSE4.2) enabled only processors has been deprecated. Intel oneAPI Math Kernel Library 2025.0 will require Intel(R) Advanced Vector Extensions (Intel(R) AVX) instructions.\n",
      "Intel MKL WARNING: Support of Intel(R) Streaming SIMD Extensions 4.2 (Intel(R) SSE4.2) enabled only processors has been deprecated. Intel oneAPI Math Kernel Library 2025.0 will require Intel(R) Advanced Vector Extensions (Intel(R) AVX) instructions.\n",
      "Intel MKL WARNING: Support of Intel(R) Streaming SIMD Extensions 4.2 (Intel(R) SSE4.2) enabled only processors has been deprecated. Intel oneAPI Math Kernel Library 2025.0 will require Intel(R) Advanced Vector Extensions (Intel(R) AVX) instructions.\n",
      "Intel MKL WARNING: Support of Intel(R) Streaming SIMD Extensions 4.2 (Intel(R) SSE4.2) enabled only processors has been deprecated. Intel oneAPI Math Kernel Library 2025.0 will require Intel(R) Advanced Vector Extensions (Intel(R) AVX) instructions.\n",
      "Intel MKL WARNING: Support of Intel(R) Streaming SIMD Extensions 4.2 (Intel(R) SSE4.2) enabled only processors has been deprecated. Intel oneAPI Math Kernel Library 2025.0 will require Intel(R) Advanced Vector Extensions (Intel(R) AVX) instructions.\n",
      "Intel MKL WARNING: Support of Intel(R) Streaming SIMD Extensions 4.2 (Intel(R) SSE4.2) enabled only processors has been deprecated. Intel oneAPI Math Kernel Library 2025.0 will require Intel(R) Advanced Vector Extensions (Intel(R) AVX) instructions.\n",
      "Intel MKL WARNING: Support of Intel(R) Streaming SIMD Extensions 4.2 (Intel(R) SSE4.2) enabled only processors has been deprecated. Intel oneAPI Math Kernel Library 2025.0 will require Intel(R) Advanced Vector Extensions (Intel(R) AVX) instructions.\n",
      "Intel MKL WARNING: Support of Intel(R) Streaming SIMD Extensions 4.2 (Intel(R) SSE4.2) enabled only processors has been deprecated. Intel oneAPI Math Kernel Library 2025.0 will require Intel(R) Advanced Vector Extensions (Intel(R) AVX) instructions.\n",
      "Intel MKL WARNING: Support of Intel(R) Streaming SIMD Extensions 4.2 (Intel(R) SSE4.2) enabled only processors has been deprecated. Intel oneAPI Math Kernel Library 2025.0 will require Intel(R) Advanced Vector Extensions (Intel(R) AVX) instructions.\n",
      "Intel MKL WARNING: Support of Intel(R) Streaming SIMD Extensions 4.2 (Intel(R) SSE4.2) enabled only processors has been deprecated. Intel oneAPI Math Kernel Library 2025.0 will require Intel(R) Advanced Vector Extensions (Intel(R) AVX) instructions.\n",
      "Intel MKL WARNING: Support of Intel(R) Streaming SIMD Extensions 4.2 (Intel(R) SSE4.2) enabled only processors has been deprecated. Intel oneAPI Math Kernel Library 2025.0 will require Intel(R) Advanced Vector Extensions (Intel(R) AVX) instructions.\n",
      "Intel MKL WARNING: Support of Intel(R) Streaming SIMD Extensions 4.2 (Intel(R) SSE4.2) enabled only processors has been deprecated. Intel oneAPI Math Kernel Library 2025.0 will require Intel(R) Advanced Vector Extensions (Intel(R) AVX) instructions.\n",
      "Intel MKL WARNING: Support of Intel(R) Streaming SIMD Extensions 4.2 (Intel(R) SSE4.2) enabled only processors has been deprecated. Intel oneAPI Math Kernel Library 2025.0 will require Intel(R) Advanced Vector Extensions (Intel(R) AVX) instructions.\n",
      "Intel MKL WARNING: Support of Intel(R) Streaming SIMD Extensions 4.2 (Intel(R) SSE4.2) enabled only processors has been deprecated. Intel oneAPI Math Kernel Library 2025.0 will require Intel(R) Advanced Vector Extensions (Intel(R) AVX) instructions.\n",
      "Intel MKL WARNING: Support of Intel(R) Streaming SIMD Extensions 4.2 (Intel(R) SSE4.2) enabled only processors has been deprecated. Intel oneAPI Math Kernel Library 2025.0 will require Intel(R) Advanced Vector Extensions (Intel(R) AVX) instructions.\n",
      "Intel MKL WARNING: Support of Intel(R) Streaming SIMD Extensions 4.2 (Intel(R) SSE4.2) enabled only processors has been deprecated. Intel oneAPI Math Kernel Library 2025.0 will require Intel(R) Advanced Vector Extensions (Intel(R) AVX) instructions.\n",
      "Intel MKL WARNING: Support of Intel(R) Streaming SIMD Extensions 4.2 (Intel(R) SSE4.2) enabled only processors has been deprecated. Intel oneAPI Math Kernel Library 2025.0 will require Intel(R) Advanced Vector Extensions (Intel(R) AVX) instructions.\n",
      "Intel MKL WARNING: Support of Intel(R) Streaming SIMD Extensions 4.2 (Intel(R) SSE4.2) enabled only processors has been deprecated. Intel oneAPI Math Kernel Library 2025.0 will require Intel(R) Advanced Vector Extensions (Intel(R) AVX) instructions.\n",
      "Intel MKL WARNING: Support of Intel(R) Streaming SIMD Extensions 4.2 (Intel(R) SSE4.2) enabled only processors has been deprecated. Intel oneAPI Math Kernel Library 2025.0 will require Intel(R) Advanced Vector Extensions (Intel(R) AVX) instructions.\n",
      "Intel MKL WARNING: Support of Intel(R) Streaming SIMD Extensions 4.2 (Intel(R) SSE4.2) enabled only processors has been deprecated. Intel oneAPI Math Kernel Library 2025.0 will require Intel(R) Advanced Vector Extensions (Intel(R) AVX) instructions.\n",
      "Intel MKL WARNING: Support of Intel(R) Streaming SIMD Extensions 4.2 (Intel(R) SSE4.2) enabled only processors has been deprecated. Intel oneAPI Math Kernel Library 2025.0 will require Intel(R) Advanced Vector Extensions (Intel(R) AVX) instructions.\n",
      "Intel MKL WARNING: Support of Intel(R) Streaming SIMD Extensions 4.2 (Intel(R) SSE4.2) enabled only processors has been deprecated. Intel oneAPI Math Kernel Library 2025.0 will require Intel(R) Advanced Vector Extensions (Intel(R) AVX) instructions.\n",
      "Intel MKL WARNING: Support of Intel(R) Streaming SIMD Extensions 4.2 (Intel(R) SSE4.2) enabled only processors has been deprecated. Intel oneAPI Math Kernel Library 2025.0 will require Intel(R) Advanced Vector Extensions (Intel(R) AVX) instructions.\n",
      "Intel MKL WARNING: Support of Intel(R) Streaming SIMD Extensions 4.2 (Intel(R) SSE4.2) enabled only processors has been deprecated. Intel oneAPI Math Kernel Library 2025.0 will require Intel(R) Advanced Vector Extensions (Intel(R) AVX) instructions.\n",
      "Intel MKL WARNING: Support of Intel(R) Streaming SIMD Extensions 4.2 (Intel(R) SSE4.2) enabled only processors has been deprecated. Intel oneAPI Math Kernel Library 2025.0 will require Intel(R) Advanced Vector Extensions (Intel(R) AVX) instructions.\n",
      "Intel MKL WARNING: Support of Intel(R) Streaming SIMD Extensions 4.2 (Intel(R) SSE4.2) enabled only processors has been deprecated. Intel oneAPI Math Kernel Library 2025.0 will require Intel(R) Advanced Vector Extensions (Intel(R) AVX) instructions.\n",
      "Intel MKL WARNING: Support of Intel(R) Streaming SIMD Extensions 4.2 (Intel(R) SSE4.2) enabled only processors has been deprecated. Intel oneAPI Math Kernel Library 2025.0 will require Intel(R) Advanced Vector Extensions (Intel(R) AVX) instructions.\n",
      "Intel MKL WARNING: Support of Intel(R) Streaming SIMD Extensions 4.2 (Intel(R) SSE4.2) enabled only processors has been deprecated. Intel oneAPI Math Kernel Library 2025.0 will require Intel(R) Advanced Vector Extensions (Intel(R) AVX) instructions.\n",
      "Intel MKL WARNING: Support of Intel(R) Streaming SIMD Extensions 4.2 (Intel(R) SSE4.2) enabled only processors has been deprecated. Intel oneAPI Math Kernel Library 2025.0 will require Intel(R) Advanced Vector Extensions (Intel(R) AVX) instructions.\n",
      "Intel MKL WARNING: Support of Intel(R) Streaming SIMD Extensions 4.2 (Intel(R) SSE4.2) enabled only processors has been deprecated. Intel oneAPI Math Kernel Library 2025.0 will require Intel(R) Advanced Vector Extensions (Intel(R) AVX) instructions.\n",
      "Intel MKL WARNING: Support of Intel(R) Streaming SIMD Extensions 4.2 (Intel(R) SSE4.2) enabled only processors has been deprecated. Intel oneAPI Math Kernel Library 2025.0 will require Intel(R) Advanced Vector Extensions (Intel(R) AVX) instructions.\n",
      "Intel MKL WARNING: Support of Intel(R) Streaming SIMD Extensions 4.2 (Intel(R) SSE4.2) enabled only processors has been deprecated. Intel oneAPI Math Kernel Library 2025.0 will require Intel(R) Advanced Vector Extensions (Intel(R) AVX) instructions.\n",
      "Intel MKL WARNING: Support of Intel(R) Streaming SIMD Extensions 4.2 (Intel(R) SSE4.2) enabled only processors has been deprecated. Intel oneAPI Math Kernel Library 2025.0 will require Intel(R) Advanced Vector Extensions (Intel(R) AVX) instructions.\n",
      "Intel MKL WARNING: Support of Intel(R) Streaming SIMD Extensions 4.2 (Intel(R) SSE4.2) enabled only processors has been deprecated. Intel oneAPI Math Kernel Library 2025.0 will require Intel(R) Advanced Vector Extensions (Intel(R) AVX) instructions.\n",
      "Intel MKL WARNING: Support of Intel(R) Streaming SIMD Extensions 4.2 (Intel(R) SSE4.2) enabled only processors has been deprecated. Intel oneAPI Math Kernel Library 2025.0 will require Intel(R) Advanced Vector Extensions (Intel(R) AVX) instructions.\n",
      "Intel MKL WARNING: Support of Intel(R) Streaming SIMD Extensions 4.2 (Intel(R) SSE4.2) enabled only processors has been deprecated. Intel oneAPI Math Kernel Library 2025.0 will require Intel(R) Advanced Vector Extensions (Intel(R) AVX) instructions.\n",
      "Intel MKL WARNING: Support of Intel(R) Streaming SIMD Extensions 4.2 (Intel(R) SSE4.2) enabled only processors has been deprecated. Intel oneAPI Math Kernel Library 2025.0 will require Intel(R) Advanced Vector Extensions (Intel(R) AVX) instructions.\n",
      "Intel MKL WARNING: Support of Intel(R) Streaming SIMD Extensions 4.2 (Intel(R) SSE4.2) enabled only processors has been deprecated. Intel oneAPI Math Kernel Library 2025.0 will require Intel(R) Advanced Vector Extensions (Intel(R) AVX) instructions.\n",
      "Intel MKL WARNING: Support of Intel(R) Streaming SIMD Extensions 4.2 (Intel(R) SSE4.2) enabled only processors has been deprecated. Intel oneAPI Math Kernel Library 2025.0 will require Intel(R) Advanced Vector Extensions (Intel(R) AVX) instructions.\n",
      "Intel MKL WARNING: Support of Intel(R) Streaming SIMD Extensions 4.2 (Intel(R) SSE4.2) enabled only processors has been deprecated. Intel oneAPI Math Kernel Library 2025.0 will require Intel(R) Advanced Vector Extensions (Intel(R) AVX) instructions.\n",
      "Intel MKL WARNING: Support of Intel(R) Streaming SIMD Extensions 4.2 (Intel(R) SSE4.2) enabled only processors has been deprecated. Intel oneAPI Math Kernel Library 2025.0 will require Intel(R) Advanced Vector Extensions (Intel(R) AVX) instructions.\n",
      "Intel MKL WARNING: Support of Intel(R) Streaming SIMD Extensions 4.2 (Intel(R) SSE4.2) enabled only processors has been deprecated. Intel oneAPI Math Kernel Library 2025.0 will require Intel(R) Advanced Vector Extensions (Intel(R) AVX) instructions.\n",
      "Intel MKL WARNING: Support of Intel(R) Streaming SIMD Extensions 4.2 (Intel(R) SSE4.2) enabled only processors has been deprecated. Intel oneAPI Math Kernel Library 2025.0 will require Intel(R) Advanced Vector Extensions (Intel(R) AVX) instructions.\n",
      "Intel MKL WARNING: Support of Intel(R) Streaming SIMD Extensions 4.2 (Intel(R) SSE4.2) enabled only processors has been deprecated. Intel oneAPI Math Kernel Library 2025.0 will require Intel(R) Advanced Vector Extensions (Intel(R) AVX) instructions.\n",
      "Intel MKL WARNING: Support of Intel(R) Streaming SIMD Extensions 4.2 (Intel(R) SSE4.2) enabled only processors has been deprecated. Intel oneAPI Math Kernel Library 2025.0 will require Intel(R) Advanced Vector Extensions (Intel(R) AVX) instructions.\n",
      "Intel MKL WARNING: Support of Intel(R) Streaming SIMD Extensions 4.2 (Intel(R) SSE4.2) enabled only processors has been deprecated. Intel oneAPI Math Kernel Library 2025.0 will require Intel(R) Advanced Vector Extensions (Intel(R) AVX) instructions.\n",
      "Intel MKL WARNING: Support of Intel(R) Streaming SIMD Extensions 4.2 (Intel(R) SSE4.2) enabled only processors has been deprecated. Intel oneAPI Math Kernel Library 2025.0 will require Intel(R) Advanced Vector Extensions (Intel(R) AVX) instructions.\n",
      "Intel MKL WARNING: Support of Intel(R) Streaming SIMD Extensions 4.2 (Intel(R) SSE4.2) enabled only processors has been deprecated. Intel oneAPI Math Kernel Library 2025.0 will require Intel(R) Advanced Vector Extensions (Intel(R) AVX) instructions.\n",
      "Intel MKL WARNING: Support of Intel(R) Streaming SIMD Extensions 4.2 (Intel(R) SSE4.2) enabled only processors has been deprecated. Intel oneAPI Math Kernel Library 2025.0 will require Intel(R) Advanced Vector Extensions (Intel(R) AVX) instructions.\n",
      "Intel MKL WARNING: Support of Intel(R) Streaming SIMD Extensions 4.2 (Intel(R) SSE4.2) enabled only processors has been deprecated. Intel oneAPI Math Kernel Library 2025.0 will require Intel(R) Advanced Vector Extensions (Intel(R) AVX) instructions.\n",
      "Intel MKL WARNING: Support of Intel(R) Streaming SIMD Extensions 4.2 (Intel(R) SSE4.2) enabled only processors has been deprecated. Intel oneAPI Math Kernel Library 2025.0 will require Intel(R) Advanced Vector Extensions (Intel(R) AVX) instructions.\n",
      "Intel MKL WARNING: Support of Intel(R) Streaming SIMD Extensions 4.2 (Intel(R) SSE4.2) enabled only processors has been deprecated. Intel oneAPI Math Kernel Library 2025.0 will require Intel(R) Advanced Vector Extensions (Intel(R) AVX) instructions.\n",
      "Intel MKL WARNING: Support of Intel(R) Streaming SIMD Extensions 4.2 (Intel(R) SSE4.2) enabled only processors has been deprecated. Intel oneAPI Math Kernel Library 2025.0 will require Intel(R) Advanced Vector Extensions (Intel(R) AVX) instructions.\n",
      "Intel MKL WARNING: Support of Intel(R) Streaming SIMD Extensions 4.2 (Intel(R) SSE4.2) enabled only processors has been deprecated. Intel oneAPI Math Kernel Library 2025.0 will require Intel(R) Advanced Vector Extensions (Intel(R) AVX) instructions.\n",
      "Intel MKL WARNING: Support of Intel(R) Streaming SIMD Extensions 4.2 (Intel(R) SSE4.2) enabled only processors has been deprecated. Intel oneAPI Math Kernel Library 2025.0 will require Intel(R) Advanced Vector Extensions (Intel(R) AVX) instructions.\n",
      "Intel MKL WARNING: Support of Intel(R) Streaming SIMD Extensions 4.2 (Intel(R) SSE4.2) enabled only processors has been deprecated. Intel oneAPI Math Kernel Library 2025.0 will require Intel(R) Advanced Vector Extensions (Intel(R) AVX) instructions.\n",
      "Intel MKL WARNING: Support of Intel(R) Streaming SIMD Extensions 4.2 (Intel(R) SSE4.2) enabled only processors has been deprecated. Intel oneAPI Math Kernel Library 2025.0 will require Intel(R) Advanced Vector Extensions (Intel(R) AVX) instructions.\n",
      "Intel MKL WARNING: Support of Intel(R) Streaming SIMD Extensions 4.2 (Intel(R) SSE4.2) enabled only processors has been deprecated. Intel oneAPI Math Kernel Library 2025.0 will require Intel(R) Advanced Vector Extensions (Intel(R) AVX) instructions.\n",
      "Intel MKL WARNING: Support of Intel(R) Streaming SIMD Extensions 4.2 (Intel(R) SSE4.2) enabled only processors has been deprecated. Intel oneAPI Math Kernel Library 2025.0 will require Intel(R) Advanced Vector Extensions (Intel(R) AVX) instructions.\n",
      "Intel MKL WARNING: Support of Intel(R) Streaming SIMD Extensions 4.2 (Intel(R) SSE4.2) enabled only processors has been deprecated. Intel oneAPI Math Kernel Library 2025.0 will require Intel(R) Advanced Vector Extensions (Intel(R) AVX) instructions.\n",
      "Intel MKL WARNING: Support of Intel(R) Streaming SIMD Extensions 4.2 (Intel(R) SSE4.2) enabled only processors has been deprecated. Intel oneAPI Math Kernel Library 2025.0 will require Intel(R) Advanced Vector Extensions (Intel(R) AVX) instructions.\n",
      "Intel MKL WARNING: Support of Intel(R) Streaming SIMD Extensions 4.2 (Intel(R) SSE4.2) enabled only processors has been deprecated. Intel oneAPI Math Kernel Library 2025.0 will require Intel(R) Advanced Vector Extensions (Intel(R) AVX) instructions.\n",
      "Intel MKL WARNING: Support of Intel(R) Streaming SIMD Extensions 4.2 (Intel(R) SSE4.2) enabled only processors has been deprecated. Intel oneAPI Math Kernel Library 2025.0 will require Intel(R) Advanced Vector Extensions (Intel(R) AVX) instructions.\n",
      "Intel MKL WARNING: Support of Intel(R) Streaming SIMD Extensions 4.2 (Intel(R) SSE4.2) enabled only processors has been deprecated. Intel oneAPI Math Kernel Library 2025.0 will require Intel(R) Advanced Vector Extensions (Intel(R) AVX) instructions.\n",
      "Intel MKL WARNING: Support of Intel(R) Streaming SIMD Extensions 4.2 (Intel(R) SSE4.2) enabled only processors has been deprecated. Intel oneAPI Math Kernel Library 2025.0 will require Intel(R) Advanced Vector Extensions (Intel(R) AVX) instructions.\n",
      "Intel MKL WARNING: Support of Intel(R) Streaming SIMD Extensions 4.2 (Intel(R) SSE4.2) enabled only processors has been deprecated. Intel oneAPI Math Kernel Library 2025.0 will require Intel(R) Advanced Vector Extensions (Intel(R) AVX) instructions.\n",
      "Intel MKL WARNING: Support of Intel(R) Streaming SIMD Extensions 4.2 (Intel(R) SSE4.2) enabled only processors has been deprecated. Intel oneAPI Math Kernel Library 2025.0 will require Intel(R) Advanced Vector Extensions (Intel(R) AVX) instructions.\n",
      "Intel MKL WARNING: Support of Intel(R) Streaming SIMD Extensions 4.2 (Intel(R) SSE4.2) enabled only processors has been deprecated. Intel oneAPI Math Kernel Library 2025.0 will require Intel(R) Advanced Vector Extensions (Intel(R) AVX) instructions.\n"
     ]
    },
    {
     "ename": "ValueError",
     "evalue": "setting an array element with a sequence. The requested array has an inhomogeneous shape after 1 dimensions. The detected shape was (10,) + inhomogeneous part.",
     "output_type": "error",
     "traceback": [
      "\u001b[0;31m---------------------------------------------------------------------------\u001b[0m",
      "\u001b[0;31mValueError\u001b[0m                                Traceback (most recent call last)",
      "Cell \u001b[0;32mIn[101], line 1\u001b[0m\n\u001b[0;32m----> 1\u001b[0m Grasscare\u001b[38;5;241m.\u001b[39mgrasscare(b1)\n",
      "File \u001b[0;32m~/EEG-Missing-Data/Grasscare.py:62\u001b[0m, in \u001b[0;36mgrasscare\u001b[0;34m(U_array, gradient_method, eta, moment, max_iter, init, beta)\u001b[0m\n\u001b[1;32m     60\u001b[0m \u001b[38;5;66;03m#Calculate Loss and Gradient\u001b[39;00m\n\u001b[1;32m     61\u001b[0m Loss \u001b[38;5;241m=\u001b[39m L_obj(P_Ball_mat, P_Gr_mat)\n\u001b[0;32m---> 62\u001b[0m del_L_array \u001b[38;5;241m=\u001b[39m del_L(b_array,\n\u001b[1;32m     63\u001b[0m                     P_Ball_mat,\n\u001b[1;32m     64\u001b[0m                     P_Gr_mat,\n\u001b[1;32m     65\u001b[0m                     dist_b_array_mat)\n\u001b[1;32m     67\u001b[0m \u001b[38;5;28;01mif\u001b[39;00m gradient_method \u001b[38;5;241m==\u001b[39m \u001b[38;5;124m'\u001b[39m\u001b[38;5;124mMomentumGD\u001b[39m\u001b[38;5;124m'\u001b[39m:\n\u001b[1;32m     68\u001b[0m     new_b_array \u001b[38;5;241m=\u001b[39m retraction_GD(b_array,\n\u001b[1;32m     69\u001b[0m                                 del_L_array,\n\u001b[1;32m     70\u001b[0m                                 eta,\n\u001b[1;32m     71\u001b[0m                                 moment,\n\u001b[1;32m     72\u001b[0m                                 old_del)\n",
      "File \u001b[0;32m~/EEG-Missing-Data/Loss.py:98\u001b[0m, in \u001b[0;36mdel_L\u001b[0;34m(b_array, P_Ball_mat, P_Gr_mat, dist_b_array_mat)\u001b[0m\n\u001b[1;32m     95\u001b[0m del_L_array \u001b[38;5;241m=\u001b[39m np\u001b[38;5;241m.\u001b[39mzeros(b_array\u001b[38;5;241m.\u001b[39mshape)\n\u001b[1;32m     97\u001b[0m \u001b[38;5;28;01mfor\u001b[39;00m i \u001b[38;5;129;01min\u001b[39;00m \u001b[38;5;28mrange\u001b[39m(K):\n\u001b[0;32m---> 98\u001b[0m     del_array \u001b[38;5;241m=\u001b[39m np\u001b[38;5;241m.\u001b[39marray([del_d_p(b_array[i], b_array[k]) \u001b[38;5;28;01mif\u001b[39;00m k \u001b[38;5;241m!=\u001b[39m i \u001b[38;5;28;01melse\u001b[39;00m \u001b[38;5;241m0\u001b[39m \u001b[38;5;28;01mfor\u001b[39;00m k \u001b[38;5;129;01min\u001b[39;00m \u001b[38;5;28mrange\u001b[39m(K)])\n\u001b[1;32m     99\u001b[0m     del_L_array[i] \u001b[38;5;241m=\u001b[39m \u001b[38;5;241m4\u001b[39m \u001b[38;5;241m*\u001b[39m np\u001b[38;5;241m.\u001b[39msum(dist_b_array_mat[i, :K] \u001b[38;5;241m*\u001b[39m (P_Gr_mat[i, :K] \u001b[38;5;241m-\u001b[39m P_Ball_mat[i, :K]) \u001b[38;5;241m*\u001b[39m del_array[:K])\n\u001b[1;32m    101\u001b[0m \u001b[38;5;28;01mreturn\u001b[39;00m del_L_array\n",
      "\u001b[0;31mValueError\u001b[0m: setting an array element with a sequence. The requested array has an inhomogeneous shape after 1 dimensions. The detected shape was (10,) + inhomogeneous part."
     ]
    }
   ],
   "source": [
    "Grasscare.grasscare(b1)"
   ]
  }
 ],
 "metadata": {
  "kernelspec": {
   "display_name": "Python 3 (ipykernel)",
   "language": "python",
   "name": "python3"
  },
  "language_info": {
   "codemirror_mode": {
    "name": "ipython",
    "version": 3
   },
   "file_extension": ".py",
   "mimetype": "text/x-python",
   "name": "python",
   "nbconvert_exporter": "python",
   "pygments_lexer": "ipython3",
   "version": "3.11.3"
  }
 },
 "nbformat": 4,
 "nbformat_minor": 5
}
